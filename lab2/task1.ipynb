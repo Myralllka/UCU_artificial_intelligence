{
 "cells": [
  {
   "cell_type": "code",
   "execution_count": null,
   "metadata": {
    "colab": {},
    "colab_type": "code",
    "executionInfo": {
     "elapsed": 584,
     "status": "ok",
     "timestamp": 1600620283097,
     "user": {
      "displayName": "Микола Моргуненко",
      "photoUrl": "https://lh3.googleusercontent.com/a-/AOh14GhTrcLfxO2G7xx7VBfvL-n-hTKmibz_GMTpt1yF=s64",
      "userId": "04777179242882632176"
     },
     "user_tz": -180
    },
    "id": "bPv2BmMbNECP"
   },
   "outputs": [],
   "source": [
    "%matplotlib inline\n",
    "from IPython.display import clear_output\n",
    "import matplotlib.pyplot as plt\n",
    "import pandas as pd\n",
    "import numpy as np\n",
    "import time\n",
    "from sklearn.datasets import make_blobs, make_moons\n",
    "from google.colab import files"
   ]
  },
  {
   "cell_type": "markdown",
   "metadata": {
    "colab_type": "text",
    "id": "4n9vxAX8SPzF"
   },
   "source": [
    "# Part 1. Regression"
   ]
  },
  {
   "cell_type": "markdown",
   "metadata": {
    "colab_type": "text",
    "id": "hkljXenkSSrO"
   },
   "source": [
    "#### Predict house price based on its description.\n"
   ]
  },
  {
   "cell_type": "markdown",
   "metadata": {
    "colab_type": "text",
    "id": "2zy6oolBSW3Z"
   },
   "source": [
    "## Data investigation"
   ]
  },
  {
   "cell_type": "markdown",
   "metadata": {
    "colab_type": "text",
    "id": "bTiOjsO8Sc46"
   },
   "source": [
    "#### Investigate meaning of features. Which features you would use for predictive models and how they can be used? Which features to your mind should be more important for prediction? "
   ]
  },
  {
   "cell_type": "code",
   "execution_count": null,
   "metadata": {
    "colab": {},
    "colab_type": "code",
    "executionInfo": {
     "elapsed": 546,
     "status": "ok",
     "timestamp": 1600623518887,
     "user": {
      "displayName": "Микола Моргуненко",
      "photoUrl": "https://lh3.googleusercontent.com/a-/AOh14GhTrcLfxO2G7xx7VBfvL-n-hTKmibz_GMTpt1yF=s64",
      "userId": "04777179242882632176"
     },
     "user_tz": -180
    },
    "id": "zHY7JmD2VEHY"
   },
   "outputs": [],
   "source": [
    "df = pd.read_csv(\"real-estate-regression.csv\", decimal=\",\")"
   ]
  },
  {
   "cell_type": "markdown",
   "metadata": {
    "colab_type": "text",
    "id": "6Y7xIAb8Vjff"
   },
   "source": [
    "I think that the most important features are district, price, area and number of flats."
   ]
  },
  {
   "cell_type": "markdown",
   "metadata": {
    "colab_type": "text",
    "id": "Tk33ty97SlqL"
   },
   "source": [
    "#### Analyse distribution of features and target variables. Have a look on statistics. As visualization. For continuous features you can use histograms and box plots, for categorical bar charts.\n",
    "\n"
   ]
  },
  {
   "cell_type": "code",
   "execution_count": null,
   "metadata": {
    "colab": {},
    "colab_type": "code",
    "id": "WhvD4gVMecbw"
   },
   "outputs": [],
   "source": [
    "df"
   ]
  },
  {
   "cell_type": "code",
   "execution_count": null,
   "metadata": {
    "colab": {
     "base_uri": "https://localhost:8080/",
     "height": 1000
    },
    "colab_type": "code",
    "executionInfo": {
     "elapsed": 2153,
     "status": "ok",
     "timestamp": 1600627912422,
     "user": {
      "displayName": "Микола Моргуненко",
      "photoUrl": "https://lh3.googleusercontent.com/a-/AOh14GhTrcLfxO2G7xx7VBfvL-n-hTKmibz_GMTpt1yF=s64",
      "userId": "04777179242882632176"
     },
     "user_tz": -180
    },
    "id": "3gR7h3CBeRSk",
    "outputId": "c4bea94e-7bd0-41ae-8cef-c89f72bd1fb9"
   },
   "outputs": [],
   "source": [
    "df.hist(figsize=(15, 15))\n",
    "df.describe()"
   ]
  },
  {
   "cell_type": "code",
   "execution_count": null,
   "metadata": {
    "colab": {
     "base_uri": "https://localhost:8080/",
     "height": 297
    },
    "colab_type": "code",
    "executionInfo": {
     "elapsed": 544,
     "status": "ok",
     "timestamp": 1600627164361,
     "user": {
      "displayName": "Микола Моргуненко",
      "photoUrl": "https://lh3.googleusercontent.com/a-/AOh14GhTrcLfxO2G7xx7VBfvL-n-hTKmibz_GMTpt1yF=s64",
      "userId": "04777179242882632176"
     },
     "user_tz": -180
    },
    "id": "aGPThM2mci_0",
    "outputId": "262a1e69-44dc-49f5-a4ae-91eec17a6c8e"
   },
   "outputs": [],
   "source": [
    "df.corr()"
   ]
  },
  {
   "cell_type": "markdown",
   "metadata": {
    "colab_type": "text",
    "id": "jTqlqzp-Sre6"
   },
   "source": [
    "#### Investigate outliers, is it anomalies or just wrong values. "
   ]
  },
  {
   "cell_type": "code",
   "execution_count": null,
   "metadata": {
    "colab": {},
    "colab_type": "code",
    "id": "6wDWoPyjS7Ev"
   },
   "outputs": [],
   "source": []
  },
  {
   "cell_type": "markdown",
   "metadata": {
    "colab_type": "text",
    "id": "L8AWZ8Z0S1gV"
   },
   "source": [
    "#### Analyze correlations between features and target. "
   ]
  },
  {
   "cell_type": "code",
   "execution_count": null,
   "metadata": {
    "colab": {},
    "colab_type": "code",
    "id": "PAvkVImVS6jd"
   },
   "outputs": [],
   "source": []
  },
  {
   "cell_type": "markdown",
   "metadata": {
    "colab_type": "text",
    "id": "41Q0hRl2SbbA"
   },
   "source": [
    "#### Write your conclusions about data"
   ]
  },
  {
   "cell_type": "markdown",
   "metadata": {
    "colab_type": "text",
    "id": "ORuSLu2tlfxR"
   },
   "source": [
    "##### Conclusion about data\n"
   ]
  },
  {
   "cell_type": "markdown",
   "metadata": {
    "colab_type": "text",
    "id": "WtSFMyHUkrgb"
   },
   "source": [
    "## Data preprocessing"
   ]
  },
  {
   "cell_type": "markdown",
   "metadata": {
    "colab_type": "text",
    "id": "8hypt7IakusZ"
   },
   "source": [
    "#### Convert non-numerical features to dummy variables. Think what to do if you have to many categories. "
   ]
  },
  {
   "cell_type": "markdown",
   "metadata": {
    "colab_type": "text",
    "id": "RIArnTKskzJr"
   },
   "source": [
    "#### Remove features if you wouldn`t use it."
   ]
  },
  {
   "cell_type": "markdown",
   "metadata": {
    "colab_type": "text",
    "id": "dxPUfOnvk2O7"
   },
   "source": [
    "#### Deal with missing values."
   ]
  },
  {
   "cell_type": "markdown",
   "metadata": {
    "colab_type": "text",
    "id": "Vhh5EzLPk6Xy"
   },
   "source": [
    "#### Scale features or target if necessary."
   ]
  },
  {
   "cell_type": "markdown",
   "metadata": {
    "colab_type": "text",
    "id": "VGkFae_Pk9Yg"
   },
   "source": [
    "#### Split dataset into train, test and cross validation sets."
   ]
  },
  {
   "cell_type": "markdown",
   "metadata": {
    "colab_type": "text",
    "id": "FyReX-RElNzW"
   },
   "source": [
    "- ## Rename columns and set all prices in dolars (1UAH=28USD)\n",
    "- ## Remove useless columns"
   ]
  },
  {
   "cell_type": "code",
   "execution_count": null,
   "metadata": {
    "colab": {},
    "colab_type": "code",
    "id": "T80va79jlJXM"
   },
   "outputs": [],
   "source": [
    "df = df.drop(columns = [\"Місто\", \"Тип нерухомості\", \"Назва\", \"Агенція\", \"Телефон\", \"Опис\", \"Користувач\", \"Соток\", \"Область\", \"id\", ])\n",
    "df = df.rename(columns={\"Вулиця\": \"street\", \"Район\":\"district\", \"Дата\":\"date\" ,\"Ціна\" :\"price\", \"Тип ціни\": \"price_type\", \"Кімнат\": \"rooms\", \"Поверх\": \"floor\", \"Поверховість\" : \"total_floors\", \"Загальна площа\" : \"total_area\", \"Житлова площа\" :\"living_area\", \"Кухня\" : \"kitchen_area\", \"Стіни\":\"walls\"})\n",
    "df.loc[df.price_type == \"грн\", 'price'] = df.price / 28\n",
    "df = df.drop(columns=[\"price_type\", \"total_floors\"])"
   ]
  }
 ],
 "metadata": {
  "colab": {
   "authorship_tag": "ABX9TyPyJQp9LM+LuRFzlRQoFJMT",
   "collapsed_sections": [],
   "name": "task1.ipynb",
   "provenance": []
  },
  "kernelspec": {
   "display_name": "Python 3",
   "language": "python",
   "name": "python3"
  },
  "language_info": {
   "codemirror_mode": {
    "name": "ipython",
    "version": 3
   },
   "file_extension": ".py",
   "mimetype": "text/x-python",
   "name": "python",
   "nbconvert_exporter": "python",
   "pygments_lexer": "ipython3",
   "version": "3.8.6"
  }
 },
 "nbformat": 4,
 "nbformat_minor": 1
}
