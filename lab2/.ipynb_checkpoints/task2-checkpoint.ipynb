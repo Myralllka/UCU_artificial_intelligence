{
 "cells": [
  {
   "cell_type": "code",
   "execution_count": null,
   "metadata": {
    "colab": {
     "base_uri": "https://localhost:8080/",
     "height": 71
    },
    "colab_type": "code",
    "executionInfo": {
     "elapsed": 450,
     "status": "ok",
     "timestamp": 1600631915072,
     "user": {
      "displayName": "Микола Моргуненко",
      "photoUrl": "https://lh3.googleusercontent.com/a-/AOh14GhTrcLfxO2G7xx7VBfvL-n-hTKmibz_GMTpt1yF=s64",
      "userId": "04777179242882632176"
     },
     "user_tz": -180
    },
    "id": "ms6Qr6QF_tzi",
    "outputId": "fc4cfbf6-4907-4069-df46-e411260fc72d"
   },
   "outputs": [],
   "source": [
    "%matplotlib inline\n",
    "from IPython.display import clear_output\n",
    "import matplotlib.pyplot as plt\n",
    "import pandas as pd\n",
    "import numpy as np\n",
    "import seaborn as sns\n",
    "import time\n",
    "\n",
    "from sklearn.datasets import make_blobs, make_moons\n",
    "from google.colab import files"
   ]
  },
  {
   "cell_type": "markdown",
   "metadata": {
    "colab_type": "text",
    "id": "5CbimFDLnexo"
   },
   "source": [
    "# Part 2. Classification\n"
   ]
  },
  {
   "cell_type": "markdown",
   "metadata": {
    "colab_type": "text",
    "id": "Kbw4NXNInjlV"
   },
   "source": [
    "Predict breast cancer based on features. "
   ]
  },
  {
   "cell_type": "markdown",
   "metadata": {
    "colab_type": "text",
    "id": "xX21vXw4npBK"
   },
   "source": [
    "### Data investigation\n",
    "\n",
    "- Analyse distribution of features and target variables. Have a look on statistics. As visualization. For continuous features you can use histograms and box plots, for categorical bar charts.\n",
    "- Investigate outliers. \n",
    "- Analyze correlations between features and target."
   ]
  },
  {
   "cell_type": "code",
   "execution_count": null,
   "metadata": {
    "colab": {},
    "colab_type": "code",
    "executionInfo": {
     "elapsed": 657,
     "status": "ok",
     "timestamp": 1600631247920,
     "user": {
      "displayName": "Микола Моргуненко",
      "photoUrl": "https://lh3.googleusercontent.com/a-/AOh14GhTrcLfxO2G7xx7VBfvL-n-hTKmibz_GMTpt1yF=s64",
      "userId": "04777179242882632176"
     },
     "user_tz": -180
    },
    "id": "d5zLwtpIDhxP"
   },
   "outputs": [],
   "source": [
    "df = pd.read_csv(\"cancer-classification.csv\")\n",
    "df = df.drop(columns=[\"Unnamed: 0\", \"Id\"])"
   ]
  },
  {
   "cell_type": "code",
   "execution_count": null,
   "metadata": {
    "colab": {
     "base_uri": "https://localhost:8080/",
     "height": 473
    },
    "colab_type": "code",
    "executionInfo": {
     "elapsed": 848,
     "status": "ok",
     "timestamp": 1600631249466,
     "user": {
      "displayName": "Микола Моргуненко",
      "photoUrl": "https://lh3.googleusercontent.com/a-/AOh14GhTrcLfxO2G7xx7VBfvL-n-hTKmibz_GMTpt1yF=s64",
      "userId": "04777179242882632176"
     },
     "user_tz": -180
    },
    "id": "5QNJCyctDkmP",
    "outputId": "cfe8bc73-622e-48a3-ee6c-0d008187616c"
   },
   "outputs": [],
   "source": [
    "df"
   ]
  },
  {
   "cell_type": "code",
   "execution_count": null,
   "metadata": {
    "colab": {
     "base_uri": "https://localhost:8080/",
     "height": 996
    },
    "colab_type": "code",
    "executionInfo": {
     "elapsed": 2643,
     "status": "ok",
     "timestamp": 1600631260627,
     "user": {
      "displayName": "Микола Моргуненко",
      "photoUrl": "https://lh3.googleusercontent.com/a-/AOh14GhTrcLfxO2G7xx7VBfvL-n-hTKmibz_GMTpt1yF=s64",
      "userId": "04777179242882632176"
     },
     "user_tz": -180
    },
    "id": "xgITSzwuooPB",
    "outputId": "9b6ab2dc-1622-45e7-8f93-8a573b80c2b9"
   },
   "outputs": [],
   "source": [
    "\n",
    "df.hist(figsize=(20, 20))"
   ]
  },
  {
   "cell_type": "code",
   "execution_count": null,
   "metadata": {
    "colab": {
     "base_uri": "https://localhost:8080/",
     "height": 351
    },
    "colab_type": "code",
    "executionInfo": {
     "elapsed": 569,
     "status": "ok",
     "timestamp": 1600632145996,
     "user": {
      "displayName": "Микола Моргуненко",
      "photoUrl": "https://lh3.googleusercontent.com/a-/AOh14GhTrcLfxO2G7xx7VBfvL-n-hTKmibz_GMTpt1yF=s64",
      "userId": "04777179242882632176"
     },
     "user_tz": -180
    },
    "id": "DkuwB1BOHEBq",
    "outputId": "d31ee711-0c7d-474a-a655-512af56e025c"
   },
   "outputs": [],
   "source": [
    "df.describe()"
   ]
  },
  {
   "cell_type": "code",
   "execution_count": null,
   "metadata": {
    "colab": {},
    "colab_type": "code",
    "executionInfo": {
     "elapsed": 614,
     "status": "ok",
     "timestamp": 1600634676571,
     "user": {
      "displayName": "Микола Моргуненко",
      "photoUrl": "https://lh3.googleusercontent.com/a-/AOh14GhTrcLfxO2G7xx7VBfvL-n-hTKmibz_GMTpt1yF=s64",
      "userId": "04777179242882632176"
     },
     "user_tz": -180
    },
    "id": "HI2YXIMyQRVL"
   },
   "outputs": [],
   "source": [
    "df.dtypes\n",
    "df = df.drop(columns={\"Bare Nuclei\"})"
   ]
  },
  {
   "cell_type": "code",
   "execution_count": null,
   "metadata": {
    "colab": {
     "base_uri": "https://localhost:8080/",
     "height": 603
    },
    "colab_type": "code",
    "executionInfo": {
     "elapsed": 1839,
     "status": "ok",
     "timestamp": 1600634680624,
     "user": {
      "displayName": "Микола Моргуненко",
      "photoUrl": "https://lh3.googleusercontent.com/a-/AOh14GhTrcLfxO2G7xx7VBfvL-n-hTKmibz_GMTpt1yF=s64",
      "userId": "04777179242882632176"
     },
     "user_tz": -180
    },
    "id": "fc-f_kejBVah",
    "outputId": "37557638-030d-45c5-c209-369a632e7f8e"
   },
   "outputs": [],
   "source": [
    "corr = df.corr()\n",
    "#Plot figsize\n",
    "fig, ax = plt.subplots(figsize=(10, 8))\n",
    "#Generate Heat Map, allow annotations and place floats in map\n",
    "sns.heatmap(corr, cmap='coolwarm', annot=True, fmt=\".2f\")\n",
    "#Apply xticks\n",
    "plt.xticks(range(len(corr.columns)), corr.columns);\n",
    "#Apply yticks\n",
    "plt.yticks(range(len(corr.columns)), corr.columns)\n",
    "#show plot\n",
    "plt.show()"
   ]
  },
  {
   "cell_type": "markdown",
   "metadata": {
    "colab_type": "text",
    "id": "PRG20sZxonOe"
   },
   "source": [
    "### Data preprocessing\n",
    "- Convert non-numerical features to dummy variables. \n",
    "- Scale features or target if necessary.\n",
    "- Split dataset into train, test and cross validation sets."
   ]
  },
  {
   "cell_type": "code",
   "execution_count": null,
   "metadata": {
    "colab": {},
    "colab_type": "code",
    "executionInfo": {
     "elapsed": 593,
     "status": "ok",
     "timestamp": 1600635167674,
     "user": {
      "displayName": "Микола Моргуненко",
      "photoUrl": "https://lh3.googleusercontent.com/a-/AOh14GhTrcLfxO2G7xx7VBfvL-n-hTKmibz_GMTpt1yF=s64",
      "userId": "04777179242882632176"
     },
     "user_tz": -180
    },
    "id": "cF0tEUNVo3Bo"
   },
   "outputs": [],
   "source": [
    "# Splitting the dataset into the Training set and Test set\n",
    "X = df.drop(['Class', 'Uniformity of Cell Shape'], axis = 1).values\n",
    "y = df['Class'].values.reshape(-1,1)\n",
    "\n",
    "from sklearn.model_selection import train_test_split\n",
    "X_train, X_test, y_train, y_test = train_test_split(X, y, test_size = 0.25, random_state = 42)"
   ]
  },
  {
   "cell_type": "markdown",
   "metadata": {
    "colab_type": "text",
    "id": "8mt_wDfMo3xI"
   },
   "source": [
    "### Training\n",
    "- Train logistic regression, evaluate on validation set, play with hyper parameters.\n"
   ]
  },
  {
   "cell_type": "code",
   "execution_count": null,
   "metadata": {
    "colab": {
     "base_uri": "https://localhost:8080/",
     "height": 122
    },
    "colab_type": "code",
    "executionInfo": {
     "elapsed": 571,
     "status": "ok",
     "timestamp": 1600635405712,
     "user": {
      "displayName": "Микола Моргуненко",
      "photoUrl": "https://lh3.googleusercontent.com/a-/AOh14GhTrcLfxO2G7xx7VBfvL-n-hTKmibz_GMTpt1yF=s64",
      "userId": "04777179242882632176"
     },
     "user_tz": -180
    },
    "id": "rTs7PjYSMM0u",
    "outputId": "3bd760f4-78b8-42ce-f597-7fd4889f01d5"
   },
   "outputs": [],
   "source": [
    "from sklearn.linear_model import LogisticRegression\n",
    "from sklearn.metrics import precision_score, recall_score, f1_score\n",
    "from copy import deepcopy\n",
    "X_train1, X_test1, y_train1, y_test1 = deepcopy(X_train), deepcopy(X_test), deepcopy(y_train), deepcopy(y_test)\n",
    "\n",
    "clf1 = LogisticRegression().fit(X_train1, y_train1)\n",
    "y_pred_LR = clf1.predict(X_test1)\n",
    "\n",
    "print(f\"precision_score:\\t{precision_score(y_test1, y_pred_LR, average='macro')}\")\n",
    "print(f\"recall_score:\\t\\t{recall_score(y_test1, y_pred_LR, average='macro')}\")\n",
    "print(f\"f1_score:\\t\\t{f1_score(y_test1, y_pred_LR, average='macro')}\")\n",
    "\n"
   ]
  },
  {
   "cell_type": "markdown",
   "metadata": {
    "colab_type": "text",
    "id": "HY0HqiiUP6gI"
   },
   "source": [
    "- Train SVM, evaluate on validation set, play with hyper parameters."
   ]
  },
  {
   "cell_type": "code",
   "execution_count": null,
   "metadata": {
    "colab": {
     "base_uri": "https://localhost:8080/",
     "height": 122
    },
    "colab_type": "code",
    "executionInfo": {
     "elapsed": 570,
     "status": "ok",
     "timestamp": 1600636420899,
     "user": {
      "displayName": "Микола Моргуненко",
      "photoUrl": "https://lh3.googleusercontent.com/a-/AOh14GhTrcLfxO2G7xx7VBfvL-n-hTKmibz_GMTpt1yF=s64",
      "userId": "04777179242882632176"
     },
     "user_tz": -180
    },
    "id": "DPvsZi9mTv44",
    "outputId": "19ee5ae5-4a57-4b70-be6b-61ac22530976"
   },
   "outputs": [],
   "source": [
    "from sklearn.svm import SVC\n",
    "from sklearn.pipeline import make_pipeline\n",
    "from sklearn.preprocessing import StandardScaler\n",
    "\n",
    "X_train1, X_test1, y_train1, y_test1 = deepcopy(X_train), deepcopy(X_test), deepcopy(y_train), deepcopy(y_test)\n",
    "\n",
    "clf = make_pipeline(StandardScaler(), SVC(gamma='auto'))\n",
    "clf.fit(X_test1, y_test1)\n",
    "y_pred_LR = clf.predict(X_test1)\n",
    "\n",
    "print(f\"precision_score:\\t{precision_score(y_test1, y_pred_LR, average='macro')}\")\n",
    "print(f\"recall_score:\\t\\t{recall_score(y_test1, y_pred_LR, average='macro')}\")\n",
    "print(f\"f1_score:\\t\\t{f1_score(y_test1, y_pred_LR, average='macro')}\")\n"
   ]
  },
  {
   "cell_type": "markdown",
   "metadata": {
    "colab_type": "text",
    "id": "cUwNEmr2TwNv"
   },
   "source": [
    "- Train Gradient Boosting Classifier, evaluate on validation set, play with hyper parameters."
   ]
  },
  {
   "cell_type": "code",
   "execution_count": null,
   "metadata": {
    "colab": {
     "base_uri": "https://localhost:8080/",
     "height": 122
    },
    "colab_type": "code",
    "executionInfo": {
     "elapsed": 810,
     "status": "ok",
     "timestamp": 1600635875448,
     "user": {
      "displayName": "Микола Моргуненко",
      "photoUrl": "https://lh3.googleusercontent.com/a-/AOh14GhTrcLfxO2G7xx7VBfvL-n-hTKmibz_GMTpt1yF=s64",
      "userId": "04777179242882632176"
     },
     "user_tz": -180
    },
    "id": "FYm2KXOyUSG5",
    "outputId": "86ffd1fb-0216-4a0f-ab4d-11e947dfe5ca"
   },
   "outputs": [],
   "source": [
    "import xgboost as xgb\n",
    "xgb_model = xgb.XGBRegressor(objective=\"reg:linear\", random_state=42)\n"
   ]
  },
  {
   "cell_type": "markdown",
   "metadata": {
    "colab_type": "text",
    "id": "2CUHFyXSUScP"
   },
   "source": [
    "- Check precision, recall, F1-score metrics, what is more important for you? "
   ]
  },
  {
   "cell_type": "code",
   "execution_count": null,
   "metadata": {
    "colab": {},
    "colab_type": "code",
    "id": "VPaq2yKjUU4Z"
   },
   "outputs": [],
   "source": []
  },
  {
   "cell_type": "markdown",
   "metadata": {
    "colab_type": "text",
    "id": "dpnCWu5aUT5W"
   },
   "source": [
    "- Chose best model based on validation and test set."
   ]
  },
  {
   "cell_type": "code",
   "execution_count": null,
   "metadata": {
    "colab": {},
    "colab_type": "code",
    "id": "byo-0IGLUWlT"
   },
   "outputs": [],
   "source": [
    "the best model is SVM"
   ]
  },
  {
   "cell_type": "markdown",
   "metadata": {
    "colab_type": "text",
    "id": "nNNwEwjPUW75"
   },
   "source": [
    "- Write which experiments give you the best results. "
   ]
  },
  {
   "cell_type": "markdown",
   "metadata": {
    "colab_type": "text",
    "id": "EdWwU-smVd4F"
   },
   "source": [
    "The experiment with SVM gives us the best result :-)and Logistic regression the worst one"
   ]
  }
 ],
 "metadata": {
  "colab": {
   "authorship_tag": "ABX9TyPvyIpf7aeCBRIJWGDro0xs",
   "collapsed_sections": [],
   "name": "task2.ipynb",
   "provenance": []
  },
  "kernelspec": {
   "display_name": "Python 3",
   "language": "python",
   "name": "python3"
  },
  "language_info": {
   "codemirror_mode": {
    "name": "ipython",
    "version": 3
   },
   "file_extension": ".py",
   "mimetype": "text/x-python",
   "name": "python",
   "nbconvert_exporter": "python",
   "pygments_lexer": "ipython3",
   "version": "3.8.6"
  }
 },
 "nbformat": 4,
 "nbformat_minor": 1
}
