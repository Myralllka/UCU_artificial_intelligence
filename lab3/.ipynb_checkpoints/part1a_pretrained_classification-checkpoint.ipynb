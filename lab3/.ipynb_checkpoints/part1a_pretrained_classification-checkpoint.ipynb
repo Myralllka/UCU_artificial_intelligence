{
 "cells": [
  {
   "cell_type": "code",
   "execution_count": null,
   "metadata": {
    "id": "JUh9XMf883D5"
   },
   "outputs": [],
   "source": [
    "import torchvision\n",
    "import torchvision.models as models\n",
    "import torchvision.transforms as transforms\n",
    "from torch.autograd import Variable\n",
    "import torch.nn.functional as F\n",
    "from PIL import Image\n",
    "import matplotlib.pyplot as plt\n",
    "import json\n",
    "import numpy as np"
   ]
  },
  {
   "cell_type": "code",
   "execution_count": null,
   "metadata": {
    "id": "TENY1J_AW1A_"
   },
   "outputs": [],
   "source": [
    "from google.colab import drive\n",
    "drive.mount(\"/content/drive/\")"
   ]
  },
  {
   "cell_type": "code",
   "execution_count": null,
   "metadata": {
    "id": "hIChVLZs83D_"
   },
   "outputs": [],
   "source": [
    "# load pre-trained model\n",
    "\n",
    "### YOUR CODE HERE\n",
    "model = models.alexnet(pretrained=True)\n",
    "\n",
    "class_names = json.load(open(\"drive/My Drive/Artificial intelligence/lab3/vs3ex1data/imagenet_class_index.json\"))   # read class names\n",
    "class_names = [class_names[str(x)][1] for x in range(0,1000)]\n",
    "\n",
    "normalize = transforms.Normalize(mean=[0.485, 0.456, 0.406],std=[0.229, 0.224, 0.225])  # pixel value normalization\n",
    "scale = transforms.Resize([224,224])  # image re-size (to square)\n",
    "tote = transforms.ToTensor()   # transfor to tensor\n",
    "comptran = transforms.Compose([scale,tote,normalize]) # put all transformations together"
   ]
  },
  {
   "cell_type": "code",
   "execution_count": null,
   "metadata": {
    "id": "nBQglnNI83ED"
   },
   "outputs": [],
   "source": [
    "model.eval()   # put network in evaluation mode\n",
    "for i in range(1,14+1):\n",
    "    print('Image '+str(i))\n",
    "    img = Image.open('drive/My Drive/Artificial intelligence/lab3/vs3ex1data/panda/panda'+str(i)+'.jpg')\n",
    "    plt.imshow(img)\n",
    "    plt.show()\n",
    "    plt.pause(0.1)\n",
    "    # transorm image and feed to the network \n",
    "\n",
    "    ### YOUR CODE HERE\n",
    "    img = comptran(img).unsqueeze(0)\n",
    "    with torch.no_grad():\n",
    "      out = model(img)\n",
    "    # print the predicted class and corresponding probability\n",
    "  \n",
    "    ### YOUR CODE HERE\n",
    "\n",
    "    a = torch.nn.functional.softmax(out[0], dim=0)\n",
    "    value, index = a.max(0)\n",
    "    print(class_names[index], value.item())\n",
    "  \n"
   ]
  }
 ],
 "metadata": {
  "accelerator": "GPU",
  "colab": {
   "collapsed_sections": [],
   "name": "part1a_pretrained_classification.ipynb",
   "private_outputs": true,
   "provenance": []
  },
  "kernelspec": {
   "display_name": "Python 3",
   "language": "python",
   "name": "python3"
  },
  "language_info": {
   "codemirror_mode": {
    "name": "ipython",
    "version": 3
   },
   "file_extension": ".py",
   "mimetype": "text/x-python",
   "name": "python",
   "nbconvert_exporter": "python",
   "pygments_lexer": "ipython3",
   "version": "3.8.6"
  }
 },
 "nbformat": 4,
 "nbformat_minor": 1
}
