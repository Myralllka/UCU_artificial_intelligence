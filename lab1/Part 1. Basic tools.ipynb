{
 "cells": [
  {
   "cell_type": "markdown",
   "metadata": {
    "colab_type": "text",
    "id": "MbD6E93CBV_N"
   },
   "source": [
    "# Numpy"
   ]
  },
  {
   "cell_type": "code",
   "execution_count": null,
   "metadata": {
    "colab": {},
    "colab_type": "code",
    "executionInfo": {
     "elapsed": 882,
     "status": "ok",
     "timestamp": 1599590343003,
     "user": {
      "displayName": "Микола Моргуненко",
      "photoUrl": "https://lh3.googleusercontent.com/a-/AOh14GhTrcLfxO2G7xx7VBfvL-n-hTKmibz_GMTpt1yF=s64",
      "userId": "04777179242882632176"
     },
     "user_tz": -180
    },
    "id": "4KOggDhRBV_O"
   },
   "outputs": [],
   "source": [
    "import numpy as np"
   ]
  },
  {
   "cell_type": "markdown",
   "metadata": {
    "colab_type": "text",
    "id": "jFO3PDB9BV_U"
   },
   "source": [
    "### 1. Linear equation \n",
    "Find x for Ax = b"
   ]
  },
  {
   "cell_type": "code",
   "execution_count": null,
   "metadata": {
    "colab": {},
    "colab_type": "code",
    "id": "8l1Bg0ufBV_V"
   },
   "outputs": [],
   "source": [
    "A = np.array(\n",
    "    [\n",
    "         [ 1,  2,  3,  4],\n",
    "         [ 3, -3,  8,  9],\n",
    "         [ 5,  1, -4,  7],\n",
    "         [-2,  5, -5,  1],\n",
    "    ]\n",
    ")\n",
    "b = np.array([-5, 0, 10, -17])"
   ]
  },
  {
   "cell_type": "code",
   "execution_count": null,
   "metadata": {
    "colab": {
     "base_uri": "https://localhost:8080/",
     "height": 34
    },
    "colab_type": "code",
    "executionInfo": {
     "elapsed": 371,
     "status": "ok",
     "timestamp": 1599422959716,
     "user": {
      "displayName": "Микола Моргуненко",
      "photoUrl": "https://lh3.googleusercontent.com/a-/AOh14GhTrcLfxO2G7xx7VBfvL-n-hTKmibz_GMTpt1yF=s64",
      "userId": "04777179242882632176"
     },
     "user_tz": -180
    },
    "id": "lWV1v0TyBV_a",
    "outputId": "033c63a8-f128-4a23-db7f-967c9c0b1438"
   },
   "outputs": [],
   "source": [
    "np.set_printoptions(precision=2)\n",
    "x = np.linalg.inv(A).dot(b)\n",
    "x\n"
   ]
  },
  {
   "cell_type": "markdown",
   "metadata": {
    "colab_type": "text",
    "id": "EbH4fD4ABV_f"
   },
   "source": [
    "**Tip:** have a look to np.set_printoptions"
   ]
  },
  {
   "cell_type": "markdown",
   "metadata": {
    "colab_type": "text",
    "id": "8eOfZXtyBV_f"
   },
   "source": [
    "### 2. Cliping\n",
    "Set all negatives values of array to zero"
   ]
  },
  {
   "cell_type": "code",
   "execution_count": null,
   "metadata": {
    "colab": {},
    "colab_type": "code",
    "id": "kRPk1OLyBV_h"
   },
   "outputs": [],
   "source": [
    "A = np.array(\n",
    "    [\n",
    "         [ 1,  2,  3,  4],\n",
    "         [ 3, -3,  8,  9],\n",
    "         [ 5,  1, -4,  7],\n",
    "         [-2,  5, -5,  1],\n",
    "    ]\n",
    ")"
   ]
  },
  {
   "cell_type": "code",
   "execution_count": null,
   "metadata": {
    "colab": {
     "base_uri": "https://localhost:8080/",
     "height": 85
    },
    "colab_type": "code",
    "executionInfo": {
     "elapsed": 509,
     "status": "ok",
     "timestamp": 1599424077995,
     "user": {
      "displayName": "Микола Моргуненко",
      "photoUrl": "https://lh3.googleusercontent.com/a-/AOh14GhTrcLfxO2G7xx7VBfvL-n-hTKmibz_GMTpt1yF=s64",
      "userId": "04777179242882632176"
     },
     "user_tz": -180
    },
    "id": "690YLKWMBV_l",
    "outputId": "db9624d1-a322-4c53-ea60-956d756a131d"
   },
   "outputs": [],
   "source": [
    "\n",
    "# A[A<0]=0\n",
    "# OR\n",
    "A.clip(min=0)\n",
    "A\n",
    "\n"
   ]
  },
  {
   "cell_type": "markdown",
   "metadata": {
    "colab_type": "text",
    "id": "x5_BqP7aBV_q"
   },
   "source": [
    "### 3. Normalization\n",
    "Normalize vector x (rescale values between 0, 1)"
   ]
  },
  {
   "cell_type": "code",
   "execution_count": null,
   "metadata": {
    "colab": {},
    "colab_type": "code",
    "id": "rY6GvKoiBV_q"
   },
   "outputs": [],
   "source": [
    "x = np.array([-4, 2, -1, 5, -10])"
   ]
  },
  {
   "cell_type": "code",
   "execution_count": null,
   "metadata": {
    "colab": {
     "base_uri": "https://localhost:8080/",
     "height": 34
    },
    "colab_type": "code",
    "executionInfo": {
     "elapsed": 630,
     "status": "ok",
     "timestamp": 1599424185420,
     "user": {
      "displayName": "Микола Моргуненко",
      "photoUrl": "https://lh3.googleusercontent.com/a-/AOh14GhTrcLfxO2G7xx7VBfvL-n-hTKmibz_GMTpt1yF=s64",
      "userId": "04777179242882632176"
     },
     "user_tz": -180
    },
    "id": "ybqn4EyEBV_u",
    "outputId": "60723aa5-f95a-4e91-a6c5-a84265ffedf6"
   },
   "outputs": [],
   "source": [
    "b = (x - np.min(x))/np.ptp(x)\n",
    "b"
   ]
  },
  {
   "cell_type": "markdown",
   "metadata": {
    "colab_type": "text",
    "id": "72N7pIamBV_3"
   },
   "source": [
    "### 4. Standardize\n",
    "Standardize image with shape (height, width, channels). \\\n",
    "Each channel should have zero mean and unit variance."
   ]
  },
  {
   "cell_type": "code",
   "execution_count": null,
   "metadata": {
    "colab": {},
    "colab_type": "code",
    "id": "LHIReUGpBV_4"
   },
   "outputs": [],
   "source": [
    "img = np.array([\n",
    "     [[105, 121,  90], [109, 125,  94], [107, 125,  89], [106, 124, 86]],\n",
    "     [[106, 123,  90], [107, 124,  91], [106, 125,  87], [108, 123, 81]],\n",
    "     [[106, 123,  90], [107, 124,  91], [107, 126,  88], [107, 123, 85]],\n",
    "     [[107, 125,  90], [106, 122,  89], [108, 126,  89], [103, 121, 83]]\n",
    "])"
   ]
  },
  {
   "cell_type": "code",
   "execution_count": null,
   "metadata": {
    "colab": {
     "base_uri": "https://localhost:8080/",
     "height": 340
    },
    "colab_type": "code",
    "executionInfo": {
     "elapsed": 640,
     "status": "ok",
     "timestamp": 1599425994187,
     "user": {
      "displayName": "Микола Моргуненко",
      "photoUrl": "https://lh3.googleusercontent.com/a-/AOh14GhTrcLfxO2G7xx7VBfvL-n-hTKmibz_GMTpt1yF=s64",
      "userId": "04777179242882632176"
     },
     "user_tz": -180
    },
    "id": "GWtRgU-FBV_7",
    "outputId": "b4c6a6f1-bc93-4fe5-9377-c61aca44217c"
   },
   "outputs": [],
   "source": [
    "mean = np.mean(img)\n",
    "std = np.std(img)\n",
    "img = (img - mean) / std\n",
    "img"
   ]
  },
  {
   "cell_type": "markdown",
   "metadata": {
    "colab_type": "text",
    "id": "DtvlHxMjBV_-"
   },
   "source": [
    "### 5. Euclidian distance\n",
    "Calculate distance matrix between two sets of pooints "
   ]
  },
  {
   "cell_type": "code",
   "execution_count": null,
   "metadata": {
    "colab": {},
    "colab_type": "code",
    "executionInfo": {
     "elapsed": 962,
     "status": "ok",
     "timestamp": 1599590357757,
     "user": {
      "displayName": "Микола Моргуненко",
      "photoUrl": "https://lh3.googleusercontent.com/a-/AOh14GhTrcLfxO2G7xx7VBfvL-n-hTKmibz_GMTpt1yF=s64",
      "userId": "04777179242882632176"
     },
     "user_tz": -180
    },
    "id": "m0LGdz79BV__"
   },
   "outputs": [],
   "source": [
    "a = np.array([[1, 2], [3, 4], [5, 6]])\n",
    "b = np.array([[9, 8], [7, 6], [5, 4], [3, 2]])"
   ]
  },
  {
   "cell_type": "code",
   "execution_count": null,
   "metadata": {
    "colab": {
     "base_uri": "https://localhost:8080/",
     "height": 68
    },
    "colab_type": "code",
    "executionInfo": {
     "elapsed": 1115,
     "status": "ok",
     "timestamp": 1599590510500,
     "user": {
      "displayName": "Микола Моргуненко",
      "photoUrl": "https://lh3.googleusercontent.com/a-/AOh14GhTrcLfxO2G7xx7VBfvL-n-hTKmibz_GMTpt1yF=s64",
      "userId": "04777179242882632176"
     },
     "user_tz": -180
    },
    "id": "4KQtxuCqBWAE",
    "outputId": "c1fee488-7d28-4f70-b571-dde70e89d6b3"
   },
   "outputs": [],
   "source": [
    "# from sklearn.metrics.pairwise import euclidean_distances\n",
    "# euclidean_distances(a, b)\n",
    "np.linalg.norm(a[:, None, :] - b[None, :, :], axis=2)"
   ]
  },
  {
   "cell_type": "markdown",
   "metadata": {
    "colab_type": "text",
    "id": "tnYUEFhcBWAI"
   },
   "source": [
    "# Pandas"
   ]
  },
  {
   "cell_type": "code",
   "execution_count": null,
   "metadata": {
    "colab": {},
    "colab_type": "code",
    "id": "LrBnng5RBWAI"
   },
   "outputs": [],
   "source": [
    "import pandas as pd\n",
    "url = \"https://gist.githubusercontent.com/michhar/2dfd2de0d4f8727f873422c5d959fff5/raw/fa71405126017e6a37bea592440b4bee94bf7b9e/titanic.csv\"\n",
    "df = pd.read_csv(url)\n",
    "%matplotlib inline"
   ]
  },
  {
   "cell_type": "markdown",
   "metadata": {
    "colab_type": "text",
    "id": "YtoImQjHBWAM"
   },
   "source": [
    "### Task 1\n",
    "Find the name, age and sex of oldest passenger on Titanic"
   ]
  },
  {
   "cell_type": "code",
   "execution_count": null,
   "metadata": {
    "colab": {
     "base_uri": "https://localhost:8080/",
     "height": 80
    },
    "colab_type": "code",
    "executionInfo": {
     "elapsed": 970,
     "status": "ok",
     "timestamp": 1599587495647,
     "user": {
      "displayName": "Микола Моргуненко",
      "photoUrl": "https://lh3.googleusercontent.com/a-/AOh14GhTrcLfxO2G7xx7VBfvL-n-hTKmibz_GMTpt1yF=s64",
      "userId": "04777179242882632176"
     },
     "user_tz": -180
    },
    "id": "-Innou-VBWAM",
    "outputId": "fe1fa696-3dcb-49d5-b084-a54d5fbe68f7"
   },
   "outputs": [],
   "source": [
    "not_survived_mean = df[df[\"Survived\"] == 0][\"Age\"].mean()\n",
    "survived_mean = df[df[\"Survived\"] == 1][\"Age\"].mean()\n",
    "df.loc[(df[\"Survived\"] == 0) & (df[\"Age\"].isnull()), \"Age\"] = not_survived_mean\n",
    "df.loc[(df[\"Survived\"] == 1) & (df[\"Age\"].isnull()), \"Age\"] = survived_mean\n",
    "df[[\"Name\", \"Age\", \"Sex\"]].sort_values(\"Age\").tail(1)"
   ]
  },
  {
   "cell_type": "markdown",
   "metadata": {
    "colab_type": "text",
    "id": "UBxchIivBWAP"
   },
   "source": [
    "### Task 2\n",
    "Show rows with passengers with age greater than 5 percantile and less than 95 percantile"
   ]
  },
  {
   "cell_type": "code",
   "execution_count": null,
   "metadata": {
    "colab": {
     "base_uri": "https://localhost:8080/",
     "height": 453
    },
    "colab_type": "code",
    "executionInfo": {
     "elapsed": 882,
     "status": "ok",
     "timestamp": 1599587531894,
     "user": {
      "displayName": "Микола Моргуненко",
      "photoUrl": "https://lh3.googleusercontent.com/a-/AOh14GhTrcLfxO2G7xx7VBfvL-n-hTKmibz_GMTpt1yF=s64",
      "userId": "04777179242882632176"
     },
     "user_tz": -180
    },
    "id": "YpAipLfyBWAQ",
    "outputId": "7e7bd960-c8f9-4af5-db58-2cea4ce1c8e5"
   },
   "outputs": [],
   "source": [
    "df[df.Age < df[\"Age\"].quantile(.95)][df.Age > df[\"Age\"].quantile(.05)]\n",
    "\n"
   ]
  },
  {
   "cell_type": "markdown",
   "metadata": {
    "colab_type": "text",
    "id": "A_N5bzPaBWAU"
   },
   "source": [
    "### Task 3"
   ]
  },
  {
   "cell_type": "markdown",
   "metadata": {
    "colab_type": "text",
    "id": "aFY0PnVlBWAV"
   },
   "source": [
    "Show correlation between features"
   ]
  },
  {
   "cell_type": "code",
   "execution_count": null,
   "metadata": {
    "colab": {
     "base_uri": "https://localhost:8080/",
     "height": 266
    },
    "colab_type": "code",
    "executionInfo": {
     "elapsed": 881,
     "status": "ok",
     "timestamp": 1599587540185,
     "user": {
      "displayName": "Микола Моргуненко",
      "photoUrl": "https://lh3.googleusercontent.com/a-/AOh14GhTrcLfxO2G7xx7VBfvL-n-hTKmibz_GMTpt1yF=s64",
      "userId": "04777179242882632176"
     },
     "user_tz": -180
    },
    "id": "blDq0QTsBWAW",
    "outputId": "85b24900-1706-433b-dc98-9e7b646cc1fa"
   },
   "outputs": [],
   "source": [
    "df.corr()"
   ]
  },
  {
   "cell_type": "markdown",
   "metadata": {
    "colab_type": "text",
    "id": "U3nMm8hnBWAa"
   },
   "source": [
    "### Task 4\n",
    "Find average fare for survived and not survived passengers "
   ]
  },
  {
   "cell_type": "code",
   "execution_count": null,
   "metadata": {
    "colab": {
     "base_uri": "https://localhost:8080/",
     "height": 34
    },
    "colab_type": "code",
    "executionInfo": {
     "elapsed": 885,
     "status": "ok",
     "timestamp": 1599587542095,
     "user": {
      "displayName": "Микола Моргуненко",
      "photoUrl": "https://lh3.googleusercontent.com/a-/AOh14GhTrcLfxO2G7xx7VBfvL-n-hTKmibz_GMTpt1yF=s64",
      "userId": "04777179242882632176"
     },
     "user_tz": -180
    },
    "id": "3AjLmh2DBWAb",
    "outputId": "a08a64b6-4813-4ebb-b4c2-d721a36e3fe2"
   },
   "outputs": [],
   "source": [
    "not_survived_mean = df[df[\"Survived\"] == 0][\"Fare\"].mean()\n",
    "survived_mean = df[df[\"Survived\"] == 1][\"Fare\"].mean()\n",
    "print(not_survived_mean, survived_mean)"
   ]
  },
  {
   "cell_type": "markdown",
   "metadata": {
    "colab_type": "text",
    "id": "fjNwzIkLBWAf"
   },
   "source": [
    "### Task 5\n",
    "Vizualize boxplot to compare distributions of survived and not survived passengers."
   ]
  },
  {
   "cell_type": "code",
   "execution_count": null,
   "metadata": {
    "colab": {
     "base_uri": "https://localhost:8080/",
     "height": 318
    },
    "colab_type": "code",
    "executionInfo": {
     "elapsed": 938,
     "status": "ok",
     "timestamp": 1599587543871,
     "user": {
      "displayName": "Микола Моргуненко",
      "photoUrl": "https://lh3.googleusercontent.com/a-/AOh14GhTrcLfxO2G7xx7VBfvL-n-hTKmibz_GMTpt1yF=s64",
      "userId": "04777179242882632176"
     },
     "user_tz": -180
    },
    "id": "_8BffcAABWAg",
    "outputId": "70af5f69-7766-4eaf-b397-495d8dabbd58"
   },
   "outputs": [],
   "source": [
    "df.boxplot([\"Fare\"], \"Survived\")"
   ]
  }
 ],
 "metadata": {
  "colab": {
   "collapsed_sections": [],
   "name": "Part 1. Basic tools.ipynb",
   "provenance": []
  },
  "kernelspec": {
   "display_name": "Python 3",
   "language": "python",
   "name": "python3"
  },
  "language_info": {
   "codemirror_mode": {
    "name": "ipython",
    "version": 3
   },
   "file_extension": ".py",
   "mimetype": "text/x-python",
   "name": "python",
   "nbconvert_exporter": "python",
   "pygments_lexer": "ipython3",
   "version": "3.8.6"
  }
 },
 "nbformat": 4,
 "nbformat_minor": 1
}
